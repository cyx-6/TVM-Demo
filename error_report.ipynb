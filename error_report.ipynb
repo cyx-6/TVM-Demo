{
 "cells": [
  {
   "attachments": {},
   "cell_type": "markdown",
   "metadata": {},
   "source": [
    "# Demo of unified error report via TVMScript printer\n",
    "\n",
    "Error report is always an important part of UX for both developers and users. For example, \n",
    "\n",
    "1. `assert_structural_equal` is widely used in the TVM codebase, especially in the unit tests. It not only checks the equality of two IR structures, but also provide critical error information when inequality exists. Those error reported are useful for developer to debug further. \n",
    "\n",
    "2. Our `ScheduleError::RenderReport` report renders the TVMScript with annotations and underlines, to elaborate the errors occurred during the schedule. So users may quickly locate the errors and fix them soon.\n",
    "\n",
    "However, in the past, these error report components are designed and work independently:\n",
    "\n",
    "1. `assert_structural_equal` directly prints the mismatching IR nodes without any context. For example, it may report\n",
    "\n",
    "    > ValueError: StructuralEqual check failed, caused by lhs:\n",
    "    > 128\n",
    "    > and rhs:\n",
    "    > 256\n",
    "\n",
    "    and it is hard to locate which fields are mismatched with 128 and 256 in the whole script.\n",
    "\n",
    "2. `ScheduleError::RenderReport` has its own printer as `AsTVMScriptWithDiagnostic` to support annotations and underlines rendering.\n",
    "\n",
    "Fortunately, these error report componnents have been unified with the TVMScript printer. Since this TVMScript printer is designed naturally for debugging, annotating and underlining beyond the basic printing.\n",
    "\n",
    "## Underline\n",
    "\n",
    "Let us start with the following scripts:"
   ]
  },
  {
   "cell_type": "code",
   "execution_count": 1,
   "metadata": {},
   "outputs": [],
   "source": [
    "import tvm\n",
    "from tvm.ir import assert_structural_equal\n",
    "from tvm.script import tir as T\n",
    "\n",
    "\n",
    "@T.prim_func\n",
    "def func1(a: T.handle, b: T.handle):\n",
    "    A = T.match_buffer(a, (128, 128))\n",
    "    B = T.match_buffer(b, (128, 128))  # shape mismatched\n",
    "\n",
    "@T.prim_func\n",
    "def func2(a: T.handle, b: T.handle):\n",
    "    A = T.match_buffer(a, (128, 128))\n",
    "    B = T.match_buffer(b, (128, 256)) # shape mismatched"
   ]
  },
  {
   "attachments": {},
   "cell_type": "markdown",
   "metadata": {},
   "source": [
    "The two scripts look almost the same, except the buffer shapes of `B`. In `func1`, the buffer `B` is of shape `(128, 128)`. But in `func2`, the shape of buffer `B` is `(128, 256)`. Then let us run `assert_structural_equal` for them, and skip the trace back stack."
   ]
  },
  {
   "cell_type": "code",
   "execution_count": 2,
   "metadata": {},
   "outputs": [
    {
     "name": "stdout",
     "output_type": "stream",
     "text": [
      "ValueError: StructuralEqual check failed, caused by lhs at <root>.buffer_map[b].shape[1].value:\n",
      "# from tvm.script import tir as T\n",
      "\n",
      "@T.prim_func\n",
      "def main(a: T.handle, b: T.handle):\n",
      "    A = T.match_buffer(a, (128, 128))\n",
      "    B = T.match_buffer(b, (128, 128))\n",
      "                                ^^^\n",
      "    T.evaluate(0)\n",
      "and rhs at <root>.buffer_map[b].shape[1].value:\n",
      "# from tvm.script import tir as T\n",
      "\n",
      "@T.prim_func\n",
      "def main(a: T.handle, b: T.handle):\n",
      "    A = T.match_buffer(a, (128, 128))\n",
      "    B = T.match_buffer(b, (128, 256))\n",
      "                                ^^^\n",
      "    T.evaluate(0)\n"
     ]
    }
   ],
   "source": [
    "try:\n",
    "    assert_structural_equal(func1, func2, True)\n",
    "except ValueError as ve:\n",
    "    print(f\"ValueError{str(ve).split('ValueError')[1]}\")"
   ]
  },
  {
   "attachments": {},
   "cell_type": "markdown",
   "metadata": {},
   "source": [
    "The error reported includes the two parts:\n",
    "1. The `ObjectPath` to the mismatching nodes.\n",
    "2. The TVMScript with underlines mapping the mismatching nodes.\n",
    "So it is convenient to access the mismatching nodes as below:"
   ]
  },
  {
   "cell_type": "code",
   "execution_count": 3,
   "metadata": {},
   "outputs": [
    {
     "name": "stdout",
     "output_type": "stream",
     "text": [
      "The value at func1.buffer_map[b].shape[1].value is: 128\n",
      "The value at func2.buffer_map[b].shape[1].value is: 256\n"
     ]
    }
   ],
   "source": [
    "lhs_obj = func1.buffer_map[func1.params[1]].shape[1]\n",
    "rhs_obj = func2.buffer_map[func2.params[1]].shape[1]\n",
    "print(f\"The value at func1.buffer_map[b].shape[1].value is: {lhs_obj.value}\")\n",
    "print(f\"The value at func2.buffer_map[b].shape[1].value is: {rhs_obj.value}\")"
   ]
  },
  {
   "attachments": {},
   "cell_type": "markdown",
   "metadata": {},
   "source": [
    "The underlined TVMScript rendering is similar to below logic:"
   ]
  },
  {
   "cell_type": "code",
   "execution_count": 4,
   "metadata": {},
   "outputs": [
    {
     "name": "stdout",
     "output_type": "stream",
     "text": [
      "The underlined func1:\n"
     ]
    },
    {
     "data": {
      "text/html": [
       "<div class=\"highlight\" style=\"background: \"><pre style=\"line-height: 125%;\"><span></span><span style=\"color: #007979; font-style: italic\"># from tvm.script import tir as T</span>\n",
       "\n",
       "<span style=\"color: #AA22FF\">@T</span><span style=\"color: #AA22FF; font-weight: bold\">.</span>prim_func\n",
       "<span style=\"color: #008000; font-weight: bold\">def</span> <span style=\"color: #0000FF\">main</span>(a: T<span style=\"color: #AA22FF; font-weight: bold\">.</span>handle, b: T<span style=\"color: #AA22FF; font-weight: bold\">.</span>handle):\n",
       "    A <span style=\"color: #AA22FF; font-weight: bold\">=</span> T<span style=\"color: #AA22FF; font-weight: bold\">.</span>match_buffer(a, (<span style=\"color: #008000\">128</span>, <span style=\"color: #008000\">128</span>))\n",
       "    B <span style=\"color: #AA22FF; font-weight: bold\">=</span> T<span style=\"color: #AA22FF; font-weight: bold\">.</span>match_buffer(b, (<span style=\"color: #008000\">128</span>, <span style=\"color: #008000\">128</span>))\n",
       "                                <span style=\"color: #AA22FF; font-weight: bold\">^^^</span>\n",
       "    T<span style=\"color: #AA22FF; font-weight: bold\">.</span>evaluate(<span style=\"color: #008000\">0</span>)\n",
       "</pre></div>\n"
      ],
      "text/plain": [
       "<IPython.core.display.HTML object>"
      ]
     },
     "metadata": {},
     "output_type": "display_data"
    },
    {
     "name": "stdout",
     "output_type": "stream",
     "text": [
      "The underlined func2:\n"
     ]
    },
    {
     "data": {
      "text/html": [
       "<div class=\"highlight\" style=\"background: \"><pre style=\"line-height: 125%;\"><span></span><span style=\"color: #007979; font-style: italic\"># from tvm.script import tir as T</span>\n",
       "\n",
       "<span style=\"color: #AA22FF\">@T</span><span style=\"color: #AA22FF; font-weight: bold\">.</span>prim_func\n",
       "<span style=\"color: #008000; font-weight: bold\">def</span> <span style=\"color: #0000FF\">main</span>(a: T<span style=\"color: #AA22FF; font-weight: bold\">.</span>handle, b: T<span style=\"color: #AA22FF; font-weight: bold\">.</span>handle):\n",
       "    A <span style=\"color: #AA22FF; font-weight: bold\">=</span> T<span style=\"color: #AA22FF; font-weight: bold\">.</span>match_buffer(a, (<span style=\"color: #008000\">128</span>, <span style=\"color: #008000\">128</span>))\n",
       "    B <span style=\"color: #AA22FF; font-weight: bold\">=</span> T<span style=\"color: #AA22FF; font-weight: bold\">.</span>match_buffer(b, (<span style=\"color: #008000\">128</span>, <span style=\"color: #008000\">256</span>))\n",
       "                                <span style=\"color: #AA22FF; font-weight: bold\">^^^</span>\n",
       "    T<span style=\"color: #AA22FF; font-weight: bold\">.</span>evaluate(<span style=\"color: #008000\">0</span>)\n",
       "</pre></div>\n"
      ],
      "text/plain": [
       "<IPython.core.display.HTML object>"
      ]
     },
     "metadata": {},
     "output_type": "display_data"
    }
   ],
   "source": [
    "from tvm.ir.base import get_first_structural_mismatch\n",
    "\n",
    "lhs_obj_path, rhs_obj_path = get_first_structural_mismatch(func1, func2)\n",
    "print(\"The underlined func1:\")\n",
    "func1.show(black_format=False, syntax_sugar=False, path_to_underline=[lhs_obj_path])\n",
    "print(\"The underlined func2:\")\n",
    "func2.show(black_format=False, syntax_sugar=False, path_to_underline=[rhs_obj_path])"
   ]
  },
  {
   "attachments": {},
   "cell_type": "markdown",
   "metadata": {},
   "source": [
    "Here, we set `syntax_sugar=False` to show complete script and use `path_to_underline` parameter to underline our script based on `ObjectPath`. Similarly, TVMScript printer provides another `ObjectRef`-based interface, `obj_to_underline`, to achieve same result:"
   ]
  },
  {
   "cell_type": "code",
   "execution_count": 5,
   "metadata": {},
   "outputs": [],
   "source": [
    "assert func1.script(syntax_sugar=False, \n",
    "                    obj_to_underline=[lhs_obj]) \\\n",
    "    == func1.script(syntax_sugar=False, \n",
    "                    path_to_underline=[lhs_obj_path])"
   ]
  },
  {
   "attachments": {},
   "cell_type": "markdown",
   "metadata": {},
   "source": [
    "But `obj_to_underline` is able to underline all usages of the `ObjectRef`, while `path_to_underline` focuses on certain node or location: "
   ]
  },
  {
   "cell_type": "code",
   "execution_count": 6,
   "metadata": {},
   "outputs": [
    {
     "data": {
      "text/html": [
       "<div class=\"highlight\" style=\"background: \"><pre style=\"line-height: 125%;\"><span></span><span style=\"color: #007979; font-style: italic\"># from tvm.script import tir as T</span>\n",
       "\n",
       "<span style=\"color: #AA22FF\">@T</span><span style=\"color: #AA22FF; font-weight: bold\">.</span>prim_func\n",
       "<span style=\"color: #008000; font-weight: bold\">def</span> <span style=\"color: #0000FF\">main</span>(a: T<span style=\"color: #AA22FF; font-weight: bold\">.</span>int32, b: T<span style=\"color: #AA22FF; font-weight: bold\">.</span>int32):\n",
       "    T<span style=\"color: #AA22FF; font-weight: bold\">.</span>evaluate(a)\n",
       "               <span style=\"color: #AA22FF; font-weight: bold\">^</span>\n",
       "    T<span style=\"color: #AA22FF; font-weight: bold\">.</span>evaluate(b)\n",
       "    T<span style=\"color: #AA22FF; font-weight: bold\">.</span>evaluate(a)\n",
       "               <span style=\"color: #AA22FF; font-weight: bold\">^</span>\n",
       "    T<span style=\"color: #AA22FF; font-weight: bold\">.</span>evaluate(b)\n",
       "</pre></div>\n"
      ],
      "text/plain": [
       "<IPython.core.display.HTML object>"
      ]
     },
     "metadata": {},
     "output_type": "display_data"
    }
   ],
   "source": [
    "@T.prim_func\n",
    "def func3(a: T.int32, b: T.int32):\n",
    "  T.evaluate(a)\n",
    "  T.evaluate(b)\n",
    "  T.evaluate(a)\n",
    "  T.evaluate(b)\n",
    "\n",
    "func3.show(black_format=False, obj_to_underline=[func3.params[0]])"
   ]
  },
  {
   "attachments": {},
   "cell_type": "markdown",
   "metadata": {},
   "source": [
    "## Annotation\n",
    "\n",
    "Besides of underlining, the TVMScript printer supports annotation naturally for error reporting.\n",
    "\n",
    "- `obj_to_annotate`\n",
    "- `path_to_annotate`\n",
    "\n",
    "Note: the `*_to_annotate` methods annoate statement nodes only, i.e. `FunctionDef`, `For`, `Let`, etc. But not for expression nodes.\n",
    "\n",
    "Here is an example usage as `ScheduleError::RenderReport`:"
   ]
  },
  {
   "cell_type": "code",
   "execution_count": 7,
   "metadata": {},
   "outputs": [
    {
     "data": {
      "text/html": [
       "<div class=\"highlight\" style=\"background: \"><pre style=\"line-height: 125%;\"><span></span><span style=\"color: #007979; font-style: italic\"># from tvm.script import tir as T</span>\n",
       "\n",
       "<span style=\"color: #AA22FF\">@T</span><span style=\"color: #AA22FF; font-weight: bold\">.</span>prim_func\n",
       "<span style=\"color: #008000; font-weight: bold\">def</span> <span style=\"color: #0000FF\">main</span>(a: T<span style=\"color: #AA22FF; font-weight: bold\">.</span>handle, b: T<span style=\"color: #AA22FF; font-weight: bold\">.</span>handle):\n",
       "    A <span style=\"color: #AA22FF; font-weight: bold\">=</span> T<span style=\"color: #AA22FF; font-weight: bold\">.</span>match_buffer(a, (<span style=\"color: #008000\">128</span>, <span style=\"color: #008000\">128</span>))\n",
       "    B <span style=\"color: #AA22FF; font-weight: bold\">=</span> T<span style=\"color: #AA22FF; font-weight: bold\">.</span>match_buffer(b, (<span style=\"color: #008000\">128</span>, <span style=\"color: #008000\">128</span>))\n",
       "    <span style=\"color: #007979; font-style: italic\"># Block#0</span>\n",
       "    <span style=\"color: #008000; font-weight: bold\">with</span> T<span style=\"color: #AA22FF; font-weight: bold\">.</span>block(<span style=\"color: #BA2121\">&quot;root&quot;</span>):\n",
       "        T<span style=\"color: #AA22FF; font-weight: bold\">.</span>reads()\n",
       "        T<span style=\"color: #AA22FF; font-weight: bold\">.</span>writes()\n",
       "        <span style=\"color: #007979; font-style: italic\"># For#1</span>\n",
       "        <span style=\"color: #008000; font-weight: bold\">for</span> i <span style=\"color: #008000; font-weight: bold\">in</span> range(<span style=\"color: #008000\">128</span>):\n",
       "            <span style=\"color: #007979; font-style: italic\"># For#2</span>\n",
       "            <span style=\"color: #008000; font-weight: bold\">for</span> j <span style=\"color: #008000; font-weight: bold\">in</span> range(<span style=\"color: #008000\">128</span>):\n",
       "                <span style=\"color: #007979; font-style: italic\"># Block#3</span>\n",
       "                <span style=\"color: #008000; font-weight: bold\">with</span> T<span style=\"color: #AA22FF; font-weight: bold\">.</span>block(<span style=\"color: #BA2121\">&quot;block&quot;</span>):\n",
       "                    vi <span style=\"color: #AA22FF; font-weight: bold\">=</span> T<span style=\"color: #AA22FF; font-weight: bold\">.</span>axis<span style=\"color: #AA22FF; font-weight: bold\">.</span>spatial(<span style=\"color: #008000\">128</span>, i)\n",
       "                    vj <span style=\"color: #AA22FF; font-weight: bold\">=</span> T<span style=\"color: #AA22FF; font-weight: bold\">.</span>axis<span style=\"color: #AA22FF; font-weight: bold\">.</span>spatial(<span style=\"color: #008000\">128</span>, j)\n",
       "                    T<span style=\"color: #AA22FF; font-weight: bold\">.</span>reads(A[vi, vj])\n",
       "                    T<span style=\"color: #AA22FF; font-weight: bold\">.</span>writes(B[vi, vj])\n",
       "                    B[vi, vj] <span style=\"color: #AA22FF; font-weight: bold\">=</span> A[vi, vj] <span style=\"color: #AA22FF; font-weight: bold\">*</span> T<span style=\"color: #AA22FF; font-weight: bold\">.</span>float32(<span style=\"color: #008000\">2</span>)\n",
       "</pre></div>\n"
      ],
      "text/plain": [
       "<IPython.core.display.HTML object>"
      ]
     },
     "metadata": {},
     "output_type": "display_data"
    }
   ],
   "source": [
    "from tvm import tir\n",
    "\n",
    "@T.prim_func\n",
    "def func4(a: T.handle, b: T.handle) -> None:\n",
    "    A = T.match_buffer(a, (128, 128))\n",
    "    B = T.match_buffer(b, (128, 128))\n",
    "    for i, j in T.grid(128, 128):\n",
    "        with T.block(\"block\"):\n",
    "            vi, vj = T.axis.remap(\"SS\", [i, j])\n",
    "            B[vi, vj] = A[vi, vj] * 2.0\n",
    "\n",
    "func4.show(black_format=False,\n",
    "           syntax_sugar=False,\n",
    "           obj_to_annotate={func4.body: \"Block#0\",\n",
    "                            func4.body.block.body: \"For#1\",\n",
    "                            func4.body.block.body.body: \"For#2\",\n",
    "                            func4.body.block.body.body.body: \"Block#3\"})"
   ]
  }
 ],
 "metadata": {
  "kernelspec": {
   "display_name": "python39",
   "language": "python",
   "name": "python3"
  },
  "language_info": {
   "codemirror_mode": {
    "name": "ipython",
    "version": 3
   },
   "file_extension": ".py",
   "mimetype": "text/x-python",
   "name": "python",
   "nbconvert_exporter": "python",
   "pygments_lexer": "ipython3",
   "version": "3.9.12"
  },
  "orig_nbformat": 4,
  "vscode": {
   "interpreter": {
    "hash": "07c3290846f69abe301fe5f1edd92875124abb78019d24a5d1275499aac92538"
   }
  }
 },
 "nbformat": 4,
 "nbformat_minor": 2
}
