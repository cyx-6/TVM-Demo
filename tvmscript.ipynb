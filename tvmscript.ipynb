{
 "cells": [
  {
   "attachments": {},
   "cell_type": "markdown",
   "metadata": {},
   "source": [
    "# Introduction to Unity: TVMScript\n",
    "\n",
    "## TVMScript parser\n",
    "\n",
    "### Pipeline\n",
    "\n",
    "    Python object/source code -> Python AST -> TVMScript IRBuilder -> TVM IR\n",
    "\n",
    "### Parse by decorator\n",
    "\n",
    "TVMScript provides several python decorators for different supported IR's:\n",
    " - `@I.ir_module` - `I` for base IR\n",
    " - `@T.prim_func` - `T` for TensorIR(TIR)\n",
    " - `@R.function` - `R` for Relax IR\n",
    "    \n",
    "And TVMScript supports cross-IR parsing and printing. So we are able to parse their own python modules and functions, with any IR's.\n",
    "\n",
    "Let us start with a simple matrix multiplication based on TIR and Relax each. "
   ]
  },
  {
   "cell_type": "code",
   "execution_count": 1,
   "metadata": {},
   "outputs": [],
   "source": [
    "import tvm\n",
    "from tvm.script import ir as I, tir as T, relax as R\n",
    "\n",
    "\n",
    "@I.ir_module\n",
    "class matmul_module:\n",
    "    @R.function\n",
    "    def matmul_relax(\n",
    "        A: R.Tensor((128, 128), dtype=\"float32\"),\n",
    "        B: R.Tensor((128, 128), dtype=\"float32\"),\n",
    "    ) -> R.Tensor((128, 128), dtype=\"float32\"):\n",
    "        C: R.Tensor((128, 128), dtype=\"float32\") = R.matmul(A, B)\n",
    "        return C\n",
    "\n",
    "    @T.prim_func\n",
    "    def matmul_tir(\n",
    "        A: T.Buffer((128, 128), dtype=\"float32\"),\n",
    "        B: T.Buffer((128, 128), dtype=\"float32\"),\n",
    "        C: T.Buffer((128, 128), dtype=\"float32\"),\n",
    "    ):\n",
    "        for i, j, k in T.grid(128, 128, 128):\n",
    "            with T.block(\"update\"):\n",
    "                vi, vj, vk = T.axis.remap(\"SSR\", [i, j, k])\n",
    "                with T.init():\n",
    "                    C[vi, vj] = 0\n",
    "                C[vi, vj] = C[vi, vj] + A[vi, vk] * B[vk, vj]\n"
   ]
  },
  {
   "attachments": {},
   "cell_type": "markdown",
   "metadata": {},
   "source": [
    "Above is a `128 * 128` elements matrix multiplication with data type of `float32`. Let us print out what the decorators return.\n",
    "\n",
    "Note: In `IRModule`, the member functions are called as `IRModule[\"func\"]` instead of `IRModule.func`."
   ]
  },
  {
   "cell_type": "code",
   "execution_count": 2,
   "metadata": {},
   "outputs": [
    {
     "name": "stdout",
     "output_type": "stream",
     "text": [
      "<class 'tvm.ir.module.IRModule'>\n",
      "<class 'tvm.relax.expr.Function'>\n",
      "<class 'tvm.tir.function.PrimFunc'>\n"
     ]
    }
   ],
   "source": [
    "print(type(matmul_module))\n",
    "print(type(matmul_module[\"matmul_relax\"]))\n",
    "print(type(matmul_module[\"matmul_tir\"]))\n"
   ]
  },
  {
   "attachments": {},
   "cell_type": "markdown",
   "metadata": {},
   "source": [
    "Then let us print the `IRModule` directly. We get an `IRModule` source code in `str`. In fact, the TVMScript printer is called implicitly."
   ]
  },
  {
   "cell_type": "code",
   "execution_count": 3,
   "metadata": {},
   "outputs": [
    {
     "name": "stdout",
     "output_type": "stream",
     "text": [
      "# from tvm.script import ir as I\n",
      "# from tvm.script import tir as T\n",
      "# from tvm.script import relax as R\n",
      "\n",
      "@I.ir_module\n",
      "class Module:\n",
      "    @T.prim_func\n",
      "    def matmul_tir(A: T.Buffer((128, 128), \"float32\"), B: T.Buffer((128, 128), \"float32\"), C: T.Buffer((128, 128), \"float32\")):\n",
      "        # with T.block(\"root\"):\n",
      "        for i, j, k in T.grid(128, 128, 128):\n",
      "            with T.block(\"update\"):\n",
      "                vi, vj, vk = T.axis.remap(\"SSR\", [i, j, k])\n",
      "                T.reads(A[vi, vk], B[vk, vj])\n",
      "                T.writes(C[vi, vj])\n",
      "                with T.init():\n",
      "                    C[vi, vj] = T.float32(0)\n",
      "                C[vi, vj] = C[vi, vj] + A[vi, vk] * B[vk, vj]\n",
      "\n",
      "    @R.function\n",
      "    def matmul_relax(A: R.Tensor((128, 128), dtype=\"float32\"), B: R.Tensor((128, 128), dtype=\"float32\")) -> R.Tensor((128, 128), dtype=\"float32\"):\n",
      "        C: R.Tensor((128, 128), dtype=\"float32\") = R.matmul(A, B, out_dtype=\"void\")\n",
      "        return C\n"
     ]
    }
   ],
   "source": [
    "print(matmul_module)\n"
   ]
  },
  {
   "attachments": {},
   "cell_type": "markdown",
   "metadata": {},
   "source": [
    "This is a tpyical example of calling TVMScript parser via decorators. However, if we recall our parsr pipeline:\n",
    "\n",
    "    Python object/source code -> Python AST -> TVMScript IRBuilder -> TVM IR\n",
    "\n",
    "we notice that there is a component called TVMScript IRBuilder. This component allows us to build IR's more flexibly.\n",
    "So it is a better alternative for IR factory function. Let us build an any-rank matrix multiplication generator via IRBuilder."
   ]
  },
  {
   "cell_type": "code",
   "execution_count": 4,
   "metadata": {},
   "outputs": [
    {
     "name": "stdout",
     "output_type": "stream",
     "text": [
      "# from tvm.script import ir as I\n",
      "# from tvm.script import relax as R\n",
      "\n",
      "@I.ir_module\n",
      "class Module:\n",
      "    @R.function\n",
      "    def matmul_relax(A: R.Tensor((128, 128, 64), dtype=\"float32\"), B: R.Tensor((128, 64, 128), dtype=\"float32\")) -> R.Tensor((128, 128, 128), dtype=\"float32\"):\n",
      "        gv: R.Tensor((128, 128, 128), dtype=\"float32\") = R.matmul(A, B, out_dtype=\"void\")\n",
      "        return gv\n"
     ]
    }
   ],
   "source": [
    "from tvm.script.ir_builder import IRBuilder, relax as relax_builder, ir as ir_builder\n",
    "\n",
    "\n",
    "def matmul_gen(a_shape, b_shape):\n",
    "    with IRBuilder() as builder:\n",
    "        with ir_builder.ir_module():\n",
    "            with relax_builder.function():\n",
    "                R.func_name(\"matmul_relax\")\n",
    "                A = R.arg(\"A\", R.Tensor(a_shape, dtype=\"float32\"))\n",
    "                B = R.arg(\"B\", R.Tensor(b_shape, dtype=\"float32\"))\n",
    "                R.func_ret_value(R.matmul(A, B))\n",
    "\n",
    "    return builder.get()\n",
    "\n",
    "\n",
    "print(matmul_gen(a_shape=(128, 128, 64), b_shape=(128, 64, 128)))"
   ]
  },
  {
   "attachments": {},
   "cell_type": "markdown",
   "metadata": {},
   "source": [
    "## TVMScript printer\n",
    "\n",
    "### print explicitly\n",
    "\n",
    "Actually, we have already called the TVMScript printer in above codes implicitly, while the TVMScript printer provides several interface explicitly. The function `script()` works as the basic printing method."
   ]
  },
  {
   "cell_type": "code",
   "execution_count": 5,
   "metadata": {},
   "outputs": [],
   "source": [
    "assert matmul_module.script() == str(matmul_module)\n"
   ]
  },
  {
   "attachments": {},
   "cell_type": "markdown",
   "metadata": {},
   "source": [
    "In addition, if we would like to have a highlighted code, just call `show()` instead."
   ]
  },
  {
   "cell_type": "code",
   "execution_count": 6,
   "metadata": {},
   "outputs": [
    {
     "data": {
      "text/html": [
       "<div class=\"highlight\" style=\"background: \"><pre style=\"line-height: 125%;\"><span></span><span style=\"color: #007979; font-style: italic\"># from tvm.script import ir as I</span>\n",
       "<span style=\"color: #007979; font-style: italic\"># from tvm.script import tir as T</span>\n",
       "<span style=\"color: #007979; font-style: italic\"># from tvm.script import relax as R</span>\n",
       "\n",
       "\n",
       "<span style=\"color: #AA22FF\">@I</span><span style=\"color: #AA22FF; font-weight: bold\">.</span>ir_module\n",
       "<span style=\"color: #008000; font-weight: bold\">class</span> <span style=\"color: #0000FF; font-weight: bold\">Module</span>:\n",
       "    <span style=\"color: #AA22FF\">@T</span><span style=\"color: #AA22FF; font-weight: bold\">.</span>prim_func\n",
       "    <span style=\"color: #008000; font-weight: bold\">def</span> <span style=\"color: #0000FF\">matmul_tir</span>(\n",
       "        A: T<span style=\"color: #AA22FF; font-weight: bold\">.</span>Buffer((<span style=\"color: #008000\">128</span>, <span style=\"color: #008000\">128</span>), <span style=\"color: #BA2121\">&quot;float32&quot;</span>),\n",
       "        B: T<span style=\"color: #AA22FF; font-weight: bold\">.</span>Buffer((<span style=\"color: #008000\">128</span>, <span style=\"color: #008000\">128</span>), <span style=\"color: #BA2121\">&quot;float32&quot;</span>),\n",
       "        C: T<span style=\"color: #AA22FF; font-weight: bold\">.</span>Buffer((<span style=\"color: #008000\">128</span>, <span style=\"color: #008000\">128</span>), <span style=\"color: #BA2121\">&quot;float32&quot;</span>),\n",
       "    ):\n",
       "        <span style=\"color: #007979; font-style: italic\"># with T.block(&quot;root&quot;):</span>\n",
       "        <span style=\"color: #008000; font-weight: bold\">for</span> i, j, k <span style=\"color: #008000; font-weight: bold\">in</span> T<span style=\"color: #AA22FF; font-weight: bold\">.</span>grid(<span style=\"color: #008000\">128</span>, <span style=\"color: #008000\">128</span>, <span style=\"color: #008000\">128</span>):\n",
       "            <span style=\"color: #008000; font-weight: bold\">with</span> T<span style=\"color: #AA22FF; font-weight: bold\">.</span>block(<span style=\"color: #BA2121\">&quot;update&quot;</span>):\n",
       "                vi, vj, vk <span style=\"color: #AA22FF; font-weight: bold\">=</span> T<span style=\"color: #AA22FF; font-weight: bold\">.</span>axis<span style=\"color: #AA22FF; font-weight: bold\">.</span>remap(<span style=\"color: #BA2121\">&quot;SSR&quot;</span>, [i, j, k])\n",
       "                T<span style=\"color: #AA22FF; font-weight: bold\">.</span>reads(A[vi, vk], B[vk, vj])\n",
       "                T<span style=\"color: #AA22FF; font-weight: bold\">.</span>writes(C[vi, vj])\n",
       "                <span style=\"color: #008000; font-weight: bold\">with</span> T<span style=\"color: #AA22FF; font-weight: bold\">.</span>init():\n",
       "                    C[vi, vj] <span style=\"color: #AA22FF; font-weight: bold\">=</span> T<span style=\"color: #AA22FF; font-weight: bold\">.</span>float32(<span style=\"color: #008000\">0</span>)\n",
       "                C[vi, vj] <span style=\"color: #AA22FF; font-weight: bold\">=</span> C[vi, vj] <span style=\"color: #AA22FF; font-weight: bold\">+</span> A[vi, vk] <span style=\"color: #AA22FF; font-weight: bold\">*</span> B[vk, vj]\n",
       "\n",
       "    <span style=\"color: #AA22FF\">@R</span><span style=\"color: #AA22FF; font-weight: bold\">.</span>function\n",
       "    <span style=\"color: #008000; font-weight: bold\">def</span> <span style=\"color: #0000FF\">matmul_relax</span>(\n",
       "        A: R<span style=\"color: #AA22FF; font-weight: bold\">.</span>Tensor((<span style=\"color: #008000\">128</span>, <span style=\"color: #008000\">128</span>), dtype<span style=\"color: #AA22FF; font-weight: bold\">=</span><span style=\"color: #BA2121\">&quot;float32&quot;</span>),\n",
       "        B: R<span style=\"color: #AA22FF; font-weight: bold\">.</span>Tensor((<span style=\"color: #008000\">128</span>, <span style=\"color: #008000\">128</span>), dtype<span style=\"color: #AA22FF; font-weight: bold\">=</span><span style=\"color: #BA2121\">&quot;float32&quot;</span>),\n",
       "    ) <span style=\"color: #AA22FF; font-weight: bold\">-&gt;</span> R<span style=\"color: #AA22FF; font-weight: bold\">.</span>Tensor((<span style=\"color: #008000\">128</span>, <span style=\"color: #008000\">128</span>), dtype<span style=\"color: #AA22FF; font-weight: bold\">=</span><span style=\"color: #BA2121\">&quot;float32&quot;</span>):\n",
       "        C: R<span style=\"color: #AA22FF; font-weight: bold\">.</span>Tensor((<span style=\"color: #008000\">128</span>, <span style=\"color: #008000\">128</span>), dtype<span style=\"color: #AA22FF; font-weight: bold\">=</span><span style=\"color: #BA2121\">&quot;float32&quot;</span>) <span style=\"color: #AA22FF; font-weight: bold\">=</span> R<span style=\"color: #AA22FF; font-weight: bold\">.</span>matmul(A, B, out_dtype<span style=\"color: #AA22FF; font-weight: bold\">=</span><span style=\"color: #BA2121\">&quot;void&quot;</span>)\n",
       "        <span style=\"color: #008000; font-weight: bold\">return</span> C\n",
       "</pre></div>\n"
      ],
      "text/plain": [
       "<IPython.core.display.HTML object>"
      ]
     },
     "metadata": {},
     "output_type": "display_data"
    }
   ],
   "source": [
    "matmul_module.show()\n"
   ]
  },
  {
   "attachments": {},
   "cell_type": "markdown",
   "metadata": {},
   "source": [
    "### printing decoration\n",
    "\n",
    "When printing explicitly, TVMScript printer offers various options to decorate the rendered codes. We may underlines some parts of the codes, or annotate some statements by comments."
   ]
  },
  {
   "cell_type": "code",
   "execution_count": 7,
   "metadata": {},
   "outputs": [
    {
     "data": {
      "text/html": [
       "<div class=\"highlight\" style=\"background: \"><pre style=\"line-height: 125%;\"><span></span><span style=\"color: #007979; font-style: italic\"># from tvm.script import ir as I</span>\n",
       "<span style=\"color: #007979; font-style: italic\"># from tvm.script import tir as T</span>\n",
       "<span style=\"color: #007979; font-style: italic\"># from tvm.script import relax as R</span>\n",
       "\n",
       "<span style=\"color: #AA22FF\">@I</span><span style=\"color: #AA22FF; font-weight: bold\">.</span>ir_module\n",
       "<span style=\"color: #008000; font-weight: bold\">class</span> <span style=\"color: #0000FF; font-weight: bold\">Module</span>:\n",
       "    <span style=\"color: #AA22FF\">@T</span><span style=\"color: #AA22FF; font-weight: bold\">.</span>prim_func\n",
       "    <span style=\"color: #008000; font-weight: bold\">def</span> <span style=\"color: #0000FF\">matmul_tir</span>(A: T<span style=\"color: #AA22FF; font-weight: bold\">.</span>Buffer((<span style=\"color: #008000\">128</span>, <span style=\"color: #008000\">128</span>), <span style=\"color: #BA2121\">&quot;float32&quot;</span>), B: T<span style=\"color: #AA22FF; font-weight: bold\">.</span>Buffer((<span style=\"color: #008000\">128</span>, <span style=\"color: #008000\">128</span>), <span style=\"color: #BA2121\">&quot;float32&quot;</span>), C: T<span style=\"color: #AA22FF; font-weight: bold\">.</span>Buffer((<span style=\"color: #008000\">128</span>, <span style=\"color: #008000\">128</span>), <span style=\"color: #BA2121\">&quot;float32&quot;</span>)):\n",
       "        <span style=\"color: #007979; font-style: italic\"># with T.block(&quot;root&quot;):</span>\n",
       "        <span style=\"color: #008000; font-weight: bold\">for</span> i, j, k <span style=\"color: #008000; font-weight: bold\">in</span> T<span style=\"color: #AA22FF; font-weight: bold\">.</span>grid(<span style=\"color: #008000\">128</span>, <span style=\"color: #008000\">128</span>, <span style=\"color: #008000\">128</span>):\n",
       "            <span style=\"color: #007979; font-style: italic\"># Annotation 1</span>\n",
       "            <span style=\"color: #007979; font-style: italic\"># Annotation 2</span>\n",
       "            <span style=\"color: #007979; font-style: italic\"># Annotation 3</span>\n",
       "            <span style=\"color: #008000; font-weight: bold\">with</span> T<span style=\"color: #AA22FF; font-weight: bold\">.</span>block(<span style=\"color: #BA2121\">&quot;update&quot;</span>):\n",
       "                vi, vj, vk <span style=\"color: #AA22FF; font-weight: bold\">=</span> T<span style=\"color: #AA22FF; font-weight: bold\">.</span>axis<span style=\"color: #AA22FF; font-weight: bold\">.</span>remap(<span style=\"color: #BA2121\">&quot;SSR&quot;</span>, [i, j, k])\n",
       "                T<span style=\"color: #AA22FF; font-weight: bold\">.</span>reads(A[vi, vk], B[vk, vj])\n",
       "                T<span style=\"color: #AA22FF; font-weight: bold\">.</span>writes(C[vi, vj])\n",
       "                <span style=\"color: #008000; font-weight: bold\">with</span> T<span style=\"color: #AA22FF; font-weight: bold\">.</span>init():\n",
       "                    C[vi, vj] <span style=\"color: #AA22FF; font-weight: bold\">=</span> T<span style=\"color: #AA22FF; font-weight: bold\">.</span>float32(<span style=\"color: #008000\">0</span>)\n",
       "                C[vi, vj] <span style=\"color: #AA22FF; font-weight: bold\">=</span> C[vi, vj] <span style=\"color: #AA22FF; font-weight: bold\">+</span> A[vi, vk] <span style=\"color: #AA22FF; font-weight: bold\">*</span> B[vk, vj]\n",
       "\n",
       "                <span style=\"color: #AA22FF; font-weight: bold\">^^^^^^^^^^^^^^^^^^^^^^^^^^^^^^^^^^^^^^^^^^^^^</span>\n",
       "    <span style=\"color: #AA22FF\">@R</span><span style=\"color: #AA22FF; font-weight: bold\">.</span>function\n",
       "    <span style=\"color: #008000; font-weight: bold\">def</span> <span style=\"color: #0000FF\">matmul_relax</span>(A: R<span style=\"color: #AA22FF; font-weight: bold\">.</span>Tensor((<span style=\"color: #008000\">128</span>, <span style=\"color: #008000\">128</span>), dtype<span style=\"color: #AA22FF; font-weight: bold\">=</span><span style=\"color: #BA2121\">&quot;float32&quot;</span>), B: R<span style=\"color: #AA22FF; font-weight: bold\">.</span>Tensor((<span style=\"color: #008000\">128</span>, <span style=\"color: #008000\">128</span>), dtype<span style=\"color: #AA22FF; font-weight: bold\">=</span><span style=\"color: #BA2121\">&quot;float32&quot;</span>)) <span style=\"color: #AA22FF; font-weight: bold\">-&gt;</span> R<span style=\"color: #AA22FF; font-weight: bold\">.</span>Tensor((<span style=\"color: #008000\">128</span>, <span style=\"color: #008000\">128</span>), dtype<span style=\"color: #AA22FF; font-weight: bold\">=</span><span style=\"color: #BA2121\">&quot;float32&quot;</span>):\n",
       "        C: R<span style=\"color: #AA22FF; font-weight: bold\">.</span>Tensor((<span style=\"color: #008000\">128</span>, <span style=\"color: #008000\">128</span>), dtype<span style=\"color: #AA22FF; font-weight: bold\">=</span><span style=\"color: #BA2121\">&quot;float32&quot;</span>) <span style=\"color: #AA22FF; font-weight: bold\">=</span> R<span style=\"color: #AA22FF; font-weight: bold\">.</span>matmul(A, B, out_dtype<span style=\"color: #AA22FF; font-weight: bold\">=</span><span style=\"color: #BA2121\">&quot;void&quot;</span>)\n",
       "        <span style=\"color: #008000; font-weight: bold\">return</span> C\n",
       "</pre></div>\n"
      ],
      "text/plain": [
       "<IPython.core.display.HTML object>"
      ]
     },
     "metadata": {},
     "output_type": "display_data"
    }
   ],
   "source": [
    "matmul_module.show(\n",
    "    black_format=False,\n",
    "    obj_to_annotate={\n",
    "        matmul_module[\"matmul_tir\"].body.block.body.body.body.body: \"Annotation 1\\nAnnotation 2\\nAnnotation 3\"\n",
    "    },\n",
    "    obj_to_underline=[\n",
    "        matmul_module[\"matmul_tir\"].body.block.body.body.body.body.block.body,\n",
    "    ],\n",
    ")"
   ]
  },
  {
   "attachments": {},
   "cell_type": "markdown",
   "metadata": {},
   "source": [
    "### error report\n",
    "\n",
    "Besides of users, TVM itself calls TVMScript printer for error reporting as well. The printing decoration is design to unify the TVM output for IR in some extent.\n",
    "Let us takes `assert_structural_equal` as an example. `assert_structural_equal` is a helpful function for us to check the structural equality between two IR's."
   ]
  },
  {
   "cell_type": "code",
   "execution_count": 8,
   "metadata": {},
   "outputs": [
    {
     "name": "stdout",
     "output_type": "stream",
     "text": [
      "ValueError: StructuralEqual check failed, caused by lhs at <root>.body.block.body.body.body.extent.value:\n",
      "# from tvm.script import tir as T\n",
      "\n",
      "@T.prim_func\n",
      "def main(A_handle: T.handle, B_handle: T.handle, C_handle: T.handle):\n",
      "    A = T.match_buffer(A_handle, (128, 128))\n",
      "    B = T.match_buffer(B_handle, (128, 128))\n",
      "    C = T.match_buffer(C_handle, (128, 128))\n",
      "    with T.block(\"root\"):\n",
      "        T.reads()\n",
      "        T.writes()\n",
      "        for i in range(128):\n",
      "            for j in range(128):\n",
      "                for k in range(256):\n",
      "                               ^^^\n",
      "                    with T.block(\"update\"):\n",
      "                        vi = T.axis.spatial(128, i)\n",
      "                        vj = T.axis.spatial(128, j)\n",
      "                        vk = T.axis.reduce(256, k)\n",
      "                        T.reads(A[vi, vk], B[vk, vj])\n",
      "                        T.writes(C[vi, vj])\n",
      "                        with T.init():\n",
      "                            C[vi, vj] = T.float32(0)\n",
      "                        C[vi, vj] = C[vi, vj] + A[vi, vk] * B[vk, vj]\n",
      "and rhs at <root>.body.block.body.body.body.extent.value:\n",
      "# from tvm.script import tir as T\n",
      "\n",
      "@T.prim_func\n",
      "def main(A_handle: T.handle, B_handle: T.handle, C_handle: T.handle):\n",
      "    A = T.match_buffer(A_handle, (128, 128))\n",
      "    B = T.match_buffer(B_handle, (128, 128))\n",
      "    C = T.match_buffer(C_handle, (128, 128))\n",
      "    with T.block(\"root\"):\n",
      "        T.reads()\n",
      "        T.writes()\n",
      "        for i in range(128):\n",
      "            for j in range(128):\n",
      "                for k in range(128):\n",
      "                               ^^^\n",
      "                    with T.block(\"update\"):\n",
      "                        vi = T.axis.spatial(128, i)\n",
      "                        vj = T.axis.spatial(128, j)\n",
      "                        vk = T.axis.reduce(128, k)\n",
      "                        T.reads(A[vi, vk], B[vk, vj])\n",
      "                        T.writes(C[vi, vj])\n",
      "                        with T.init():\n",
      "                            C[vi, vj] = T.float32(0)\n",
      "                        C[vi, vj] = C[vi, vj] + A[vi, vk] * B[vk, vj]\n"
     ]
    }
   ],
   "source": [
    "from tvm.ir import assert_structural_equal\n",
    "\n",
    "\n",
    "@T.prim_func\n",
    "def matmul_tir_with_typo(\n",
    "    A: T.Buffer((128, 128), dtype=\"float32\"),\n",
    "    B: T.Buffer((128, 128), dtype=\"float32\"),\n",
    "    C: T.Buffer((128, 128), dtype=\"float32\"),\n",
    "):\n",
    "    for i, j, k in T.grid(128, 128, 256):\n",
    "        with T.block(\"update\"):\n",
    "            vi, vj, vk = T.axis.remap(\"SSR\", [i, j, k])\n",
    "            with T.init():\n",
    "                C[vi, vj] = 0\n",
    "            C[vi, vj] = C[vi, vj] + A[vi, vk] * B[vk, vj]\n",
    "\n",
    "try:\n",
    "    assert_structural_equal(matmul_tir_with_typo, matmul_module[\"matmul_tir\"], True)\n",
    "except ValueError as ve:\n",
    "    print(f\"ValueError{str(ve).split('ValueError')[1]}\")"
   ]
  }
 ],
 "metadata": {
  "interpreter": {
   "hash": "5bbbd5159d19e04d3a4afa38ab8d316383aad21f4ff75968478aa791115d9fa6"
  },
  "kernelspec": {
   "display_name": "Python 3.6.13 ('python36')",
   "language": "python",
   "name": "python3"
  },
  "language_info": {
   "codemirror_mode": {
    "name": "ipython",
    "version": 3
   },
   "file_extension": ".py",
   "mimetype": "text/x-python",
   "name": "python",
   "nbconvert_exporter": "python",
   "pygments_lexer": "ipython3",
   "version": "3.9.12"
  },
  "orig_nbformat": 4
 },
 "nbformat": 4,
 "nbformat_minor": 2
}
